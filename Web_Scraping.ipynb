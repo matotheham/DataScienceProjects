{
  "nbformat": 4,
  "nbformat_minor": 0,
  "metadata": {
    "colab": {
      "provenance": [],
      "collapsed_sections": [],
      "authorship_tag": "ABX9TyPmJ1JviNhGaiknzZCvm55i",
      "include_colab_link": true
    },
    "kernelspec": {
      "name": "python3",
      "display_name": "Python 3"
    },
    "language_info": {
      "name": "python"
    }
  },
  "cells": [
    {
      "cell_type": "markdown",
      "metadata": {
        "id": "view-in-github",
        "colab_type": "text"
      },
      "source": [
        "<a href=\"https://colab.research.google.com/github/matotheham/DataScienceProjects/blob/main/Web_Scraping.ipynb\" target=\"_parent\"><img src=\"https://colab.research.google.com/assets/colab-badge.svg\" alt=\"Open In Colab\"/></a>"
      ]
    },
    {
      "cell_type": "code",
      "source": [
        "import requests\n",
        "import pandas as pd\n",
        "from bs4 import BeautifulSoup \n",
        "import requests as r\n",
        "import json\n",
        "\n",
        "\n",
        "url=\"https://www.kayak.com/travel-restrictions?\"\n",
        "\n",
        "r= requests.get(url)\n",
        "\n",
        "soup=BeautifulSoup(r.content)\n",
        "\n",
        "json_data = []\n",
        "countries=[]\n",
        "statistics=[]\n",
        "entry_status=[]\n",
        "\n",
        "table = soup.findAll('article',attrs={'class':'vRki vRki-kayak'})\n",
        "\n",
        "for row in table:\n",
        "    country_name = row.find('h3',attrs={'class':'vRki-card-title'})\n",
        "    country_statistics = row.find('div',attrs={'class':'vRki-statistics'})\n",
        "    country_entry_status = row.find('p',attrs={'class':'vRki-card-text'})\n",
        "    if(country_statistics == None):\n",
        "        json_data.append({\"Country Name\":country_name.text,\"Country Statistics\":0,\"Entry Status\":country_entry_status.text})\n",
        "    else:\n",
        "        json_data.append({\"Country Name\":country_name.text,\"Country Statistics\":country_statistics.text,\"Entry Status\":country_entry_status.text})\n",
        "\n",
        "df = pd.DataFrame.from_dict(json_data, orient='columns')\n",
        "print(df.head(100))"
      ],
      "metadata": {
        "colab": {
          "base_uri": "https://localhost:8080/"
        },
        "id": "bcBm6a-a53AU",
        "outputId": "dbf42f35-51ec-4d73-ddbc-a53e33a93742"
      },
      "execution_count": 2,
      "outputs": [
        {
          "output_type": "stream",
          "name": "stdout",
          "text": [
            "           Country Name                        Country Statistics  \\\n",
            "0           Afghanistan  27.34% of population has been vaccinated   \n",
            "1               Albania  46.83% of population has been vaccinated   \n",
            "2               Algeria  17.75% of population has been vaccinated   \n",
            "3        American Samoa                                         0   \n",
            "4                Angola  41.22% of population has been vaccinated   \n",
            "5              Anguilla  68.89% of population has been vaccinated   \n",
            "6   Antigua And Barbuda  68.97% of population has been vaccinated   \n",
            "7             Argentina  91.27% of population has been vaccinated   \n",
            "8               Armenia  40.48% of population has been vaccinated   \n",
            "9                 Aruba  84.35% of population has been vaccinated   \n",
            "10            Australia  86.58% of population has been vaccinated   \n",
            "11              Austria  77.20% of population has been vaccinated   \n",
            "\n",
            "                                         Entry Status  \n",
            "0   Most visitors from the United States, regardle...  \n",
            "1   Most visitors from the United States, regardle...  \n",
            "2   Fully vaccinated visitors from the United Stat...  \n",
            "3   Most visitors from the United States, regardle...  \n",
            "4   Vaccinated visitors from the United States can...  \n",
            "5   Fully vaccinated visitors from the United Stat...  \n",
            "6   Most visitors from the United States, regardle...  \n",
            "7   Most visitors from the United States, regardle...  \n",
            "8   Most visitors from the United States, regardle...  \n",
            "9   Most visitors from the United States, regardle...  \n",
            "10  Most visitors from the United States, regardle...  \n",
            "11  Most visitors from the United States, regardle...  \n"
          ]
        }
      ]
    }
  ]
}