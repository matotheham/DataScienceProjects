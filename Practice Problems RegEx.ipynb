{
 "cells": [
  {
   "cell_type": "code",
   "execution_count": 3,
   "id": "05b597bd",
   "metadata": {},
   "outputs": [],
   "source": [
    "import re"
   ]
  },
  {
   "cell_type": "code",
   "execution_count": 4,
   "id": "238afe35",
   "metadata": {},
   "outputs": [
    {
     "name": "stdout",
     "output_type": "stream",
     "text": [
      "41\n",
      "53\n"
     ]
    }
   ],
   "source": [
    "text = \"This course will introduce the basics of data science\"\n",
    "result = re.search(r\"data science\", text)\n",
    "print(result.start())\n",
    "print(result.end())\n"
   ]
  },
  {
   "cell_type": "code",
   "execution_count": 5,
   "id": "83788f80",
   "metadata": {},
   "outputs": [
    {
     "name": "stdout",
     "output_type": "stream",
     "text": [
      "<re.Match object; span=(0, 6), match='csc001'>\n"
     ]
    }
   ],
   "source": [
    "\"\"\"\n",
    "Write a regexp that will match any string that starts with “csc” \n",
    "and ends with “001” with any number of characters, including \n",
    "none, in between\n",
    "\"\"\"\n",
    "\n",
    "text = \"csc001 noinasocn aisodsnasd oiansds\"\n",
    " \n",
    "\n",
    "for result in re.finditer(r'csc\\S*001',text):\n",
    "    print(result)\n"
   ]
  },
  {
   "cell_type": "code",
   "execution_count": 16,
   "id": "a4f92012",
   "metadata": {},
   "outputs": [
    {
     "name": "stdout",
     "output_type": "stream",
     "text": [
      "<re.Match object; span=(0, 7), match='news.py'>\n",
      "<re.Match object; span=(38, 45), match='test.py'>\n",
      "replacedreplacedreplacedreplacedreplacedreplaced\n"
     ]
    }
   ],
   "source": [
    "\"\"\"\n",
    "Write a regexp that will match name and extension of \n",
    "any Python (.py) file\n",
    "\"\"\"\n",
    "\n",
    "text = \"news.py hello.c world.cpp coffee.java test.py\"\n",
    " \n",
    "\n",
    "for result in re.finditer(r'[\\w]+.py',text):\n",
    "    print(result)\n",
    "    \n",
    "output = re.sub('([brown]|[Brown])?','replaced','brown')\n",
    "print(output)\n"
   ]
  },
  {
   "cell_type": "code",
   "execution_count": 148,
   "id": "e4d4fe17",
   "metadata": {},
   "outputs": [
    {
     "name": "stdout",
     "output_type": "stream",
     "text": [
      "<re.Match object; span=(47, 50), match='.py'>\n",
      "Filename is not legal\n"
     ]
    },
    {
     "data": {
      "text/plain": [
       "False"
      ]
     },
     "execution_count": 148,
     "metadata": {},
     "output_type": "execute_result"
    }
   ],
   "source": [
    "String= \"This contains two files, assignment1.py and ids.py\"\n",
    "    \n",
    "def find_if_name_legal(string:str)->bool:\n",
    "    for result in re.finditer('.py$',string):\n",
    "        print(result)\n",
    "        if result:\n",
    "            for result in re.finditer('\\s',string):\n",
    "                if result:\n",
    "                    print(\"Filename is not legal\")\n",
    "                    return False\n",
    "                    \n",
    "        print(\"Filename is legal\")\n",
    "        return True\n",
    "               \n",
    "find_if_name_legal(String)"
   ]
  },
  {
   "cell_type": "code",
   "execution_count": 165,
   "id": "783dcc19",
   "metadata": {},
   "outputs": [
    {
     "name": "stdout",
     "output_type": "stream",
     "text": [
      "<re.Match object; span=(49, 57), match='bscs.doc'>\n",
      "<re.Match object; span=(64, 72), match='bsse.doc'>\n",
      "['bscs.doc', 'bsse.doc']\n"
     ]
    }
   ],
   "source": [
    "String = \"Please edit the following two MS Word documents (bscs.doc) and (bsse.docx), and share with us\"\n",
    "\n",
    "list_ = []\n",
    "for result in re.finditer(r'[\\w]+\\.doc',String):\n",
    "    list_.append(result.group(0))\n",
    "    print(result)\n",
    "\n",
    "print(list_)"
   ]
  }
 ],
 "metadata": {
  "kernelspec": {
   "display_name": "Python 3 (ipykernel)",
   "language": "python",
   "name": "python3"
  },
  "language_info": {
   "codemirror_mode": {
    "name": "ipython",
    "version": 3
   },
   "file_extension": ".py",
   "mimetype": "text/x-python",
   "name": "python",
   "nbconvert_exporter": "python",
   "pygments_lexer": "ipython3",
   "version": "3.10.6"
  }
 },
 "nbformat": 4,
 "nbformat_minor": 5
}
